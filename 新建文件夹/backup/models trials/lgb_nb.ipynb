{
 "cells": [
  {
   "cell_type": "code",
   "execution_count": 3,
   "metadata": {},
   "outputs": [
    {
     "data": {
      "text/plain": [
       "<module 'data_environment' from '../data_environment.py'>"
      ]
     },
     "execution_count": 3,
     "metadata": {},
     "output_type": "execute_result"
    }
   ],
   "source": [
    "import numpy as np\n",
    "import pandas as pd\n",
    "import joblib\n",
    "\n",
    "from importlib import reload\n",
    "from glob import glob\n",
    "import os\n",
    "import sys\n",
    "import shutil\n",
    "import model_pedestal as pedestal\n",
    "from lightgbm import LGBMRegressor\n",
    "import optuna\n",
    "\n",
    "sys.path.append(\"..\")\n",
    "import kiwi_operators as kwo\n",
    "import config\n",
    "import data_environment as env\n",
    "\n",
    "reload(kwo)\n",
    "reload(config)\n",
    "reload(env)"
   ]
  },
  {
   "cell_type": "code",
   "execution_count": 18,
   "metadata": {},
   "outputs": [],
   "source": [
    "class ModelLgb(object):\n",
    "    def __init__(self):\n",
    "        self.model = LGBMRegressor(\n",
    "            n_estimators=100,\n",
    "            max_depth=5,\n",
    "            num_leaves=24,\n",
    "            learning_rate=0.05,\n",
    "            colsample_bytree=0.7,\n",
    "            subsample=0.7,\n",
    "            subsample_freq=5,\n",
    "            reg_alpha=0.01,\n",
    "            n_jobs=os.cpu_count() * 3 // 4,\n",
    "        )\n",
    "\n",
    "    def train(self, train_date_beg: int, train_date_end: int, verbose: bool = False):\n",
    "        train_data = pedestal.prep_feat_target(train_date_beg, train_date_end)\n",
    "        train_data = train_data.dropna()\n",
    "\n",
    "        feat_cols = list(train_data.columns)\n",
    "        feat_cols.remove(\"time\")\n",
    "        feat_cols.remove(\"investment\")\n",
    "        feat_cols.remove(\"target\")\n",
    "        x_train = np.array(train_data[feat_cols])\n",
    "        y_train = np.array(train_data[\"target\"])\n",
    "\n",
    "        self.model.fit(x_train, y_train, verbose=verbose)\n",
    "\n",
    "    def save_model(self, file_path: str = f\"{config.dir_model}/xgb.pkl\"):\n",
    "        joblib.dump(self.model, file_path)\n",
    "\n",
    "    def get_model(self):\n",
    "        return self.model\n",
    "\n",
    "    def predict(self, x_data: np.array):\n",
    "        return self.model.predict(x_data)\n"
   ]
  },
  {
   "cell_type": "code",
   "execution_count": 19,
   "metadata": {},
   "outputs": [
    {
     "name": "stdout",
     "output_type": "stream",
     "text": [
      "0.040479586243139916\n"
     ]
    }
   ],
   "source": [
    "train_date_beg = 20160101\n",
    "train_date_end = 20180101\n",
    "\n",
    "model = ModelLgb()\n",
    "model.train(train_date_beg, train_date_end, verbose=True)\n",
    "\n",
    "valid_date_beg = 20180101\n",
    "valid_date_end = 20190101\n",
    "\n",
    "valid_data = pedestal.prep_feat_target(valid_date_beg, valid_date_end)\n",
    "feat_cols = list(valid_data.columns)\n",
    "feat_cols.remove(\"time\")\n",
    "feat_cols.remove(\"investment\")\n",
    "feat_cols.remove(\"target\")\n",
    "x_valid = valid_data[feat_cols].fillna(method=\"ffill\")\n",
    "x_valid = np.array(x_valid)\n",
    "p_valid = model.predict(x_valid)\n",
    "y_valid = np.array(valid_data[\"target\"].fillna(method=\"ffill\"))\n",
    "print(np.corrcoef(p_valid, y_valid)[0, 1])"
   ]
  },
  {
   "cell_type": "code",
   "execution_count": 20,
   "metadata": {},
   "outputs": [
    {
     "name": "stdout",
     "output_type": "stream",
     "text": [
      "0.03685222913088071\n"
     ]
    }
   ],
   "source": [
    "train_date_beg = 20160101\n",
    "train_date_end = 20190101\n",
    "\n",
    "model = ModelLgb()\n",
    "model.train(train_date_beg, train_date_end, verbose=True)\n",
    "\n",
    "test_date_beg = 20190101\n",
    "test_date_end = 20200101\n",
    "\n",
    "test_data = pedestal.prep_feat_target(test_date_beg, test_date_end)\n",
    "feat_cols = list(test_data.columns)\n",
    "feat_cols.remove(\"time\")\n",
    "feat_cols.remove(\"investment\")\n",
    "feat_cols.remove(\"target\")\n",
    "x_test = test_data[feat_cols].fillna(method=\"ffill\")\n",
    "x_test = np.array(x_test)\n",
    "p_test = model.predict(x_test)\n",
    "y_test = np.array(test_data[\"target\"].fillna(method=\"ffill\"))\n",
    "print(np.corrcoef(p_test, y_test)[0, 1])"
   ]
  }
 ],
 "metadata": {
  "interpreter": {
   "hash": "8d9740dd253f4adceaebb4f0a38c3dc861f4f66d810a84f1a81e07c209424e8d"
  },
  "kernelspec": {
   "display_name": "Python 3.7.13 ('env37')",
   "language": "python",
   "name": "python3"
  },
  "language_info": {
   "codemirror_mode": {
    "name": "ipython",
    "version": 3
   },
   "file_extension": ".py",
   "mimetype": "text/x-python",
   "name": "python",
   "nbconvert_exporter": "python",
   "pygments_lexer": "ipython3",
   "version": "3.7.11"
  },
  "orig_nbformat": 4
 },
 "nbformat": 4,
 "nbformat_minor": 2
}
