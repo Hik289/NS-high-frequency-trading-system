{
 "cells": [
  {
   "cell_type": "code",
   "execution_count": 1,
   "metadata": {},
   "outputs": [
    {
     "data": {
      "text/plain": [
       "<module 'data_environment' from '../data_environment.py'>"
      ]
     },
     "execution_count": 1,
     "metadata": {},
     "output_type": "execute_result"
    }
   ],
   "source": [
    "import numpy as np\n",
    "import pandas as pd\n",
    "import joblib\n",
    "\n",
    "from importlib import reload\n",
    "from glob import glob\n",
    "import os\n",
    "import sys\n",
    "import shutil\n",
    "from sklearn.linear_model import LassoCV\n",
    "import model_pedestal as pedestal\n",
    "\n",
    "sys.path.append(\"..\")\n",
    "import kiwi_operators as kwo\n",
    "import config\n",
    "import data_environment as env\n",
    "\n",
    "reload(kwo)\n",
    "reload(config)\n",
    "reload(env)\n"
   ]
  },
  {
   "cell_type": "code",
   "execution_count": 2,
   "metadata": {},
   "outputs": [],
   "source": [
    "class ModelLasso(object):\n",
    "    def __init__(self):\n",
    "        self.model = LassoCV(fit_intercept=True)\n",
    "\n",
    "    def train(self, train_date_beg: int, train_date_end: int):\n",
    "        train_data = pedestal.prep_feat_target(train_date_beg, train_date_end)\n",
    "        train_data = train_data.dropna()\n",
    "\n",
    "        feat_cols = list(train_data.columns)\n",
    "        feat_cols.remove(\"time\")\n",
    "        feat_cols.remove(\"investment\")\n",
    "        feat_cols.remove(\"target\")\n",
    "        x_train = np.array(train_data[feat_cols])\n",
    "        y_train = np.array(train_data[\"target\"])\n",
    "\n",
    "        self.model.fit(x_train, y_train)\n",
    "\n",
    "    def save_model(self, file_path: str = f\"{config.dir_model}/lasso.pkl\"):\n",
    "        joblib.dump(self.model, file_path)\n",
    "\n",
    "    def get_model(self):\n",
    "        return self.model\n",
    "\n",
    "    def predict(self, x_data: np.array):\n",
    "        return self.model.predict(x_data)\n",
    "\n"
   ]
  },
  {
   "cell_type": "code",
   "execution_count": 3,
   "metadata": {},
   "outputs": [],
   "source": [
    "train_date_beg = 20160101\n",
    "train_date_end = 20180101\n",
    "\n",
    "model_lasso = ModelLasso()\n",
    "model_lasso.train(train_date_beg, train_date_end)\n",
    "\n"
   ]
  },
  {
   "cell_type": "code",
   "execution_count": 16,
   "metadata": {},
   "outputs": [],
   "source": [
    "valid_date_beg = 20180101\n",
    "valid_date_end = 20190101\n",
    "\n",
    "valid_data = pedestal.prep_feat_target(valid_date_beg, valid_date_end)\n",
    "feat_cols = list(valid_data.columns)\n",
    "feat_cols.remove(\"time\")\n",
    "feat_cols.remove(\"investment\")\n",
    "feat_cols.remove(\"target\")\n",
    "x_valid = valid_data[feat_cols].fillna(method=\"ffill\")\n",
    "x_valid = np.array(x_valid)\n",
    "p_valid = model_lasso.predict(x_valid)\n",
    "y_valid = np.array(valid_data[\"target\"].fillna(method=\"ffill\"))\n"
   ]
  },
  {
   "cell_type": "code",
   "execution_count": 17,
   "metadata": {},
   "outputs": [
    {
     "name": "stdout",
     "output_type": "stream",
     "text": [
      "[[1.         0.03119736]\n",
      " [0.03119736 1.        ]]\n"
     ]
    }
   ],
   "source": [
    "print(np.corrcoef(p_valid, y_valid))\n",
    "\n"
   ]
  },
  {
   "cell_type": "code",
   "execution_count": 11,
   "metadata": {},
   "outputs": [
    {
     "name": "stdout",
     "output_type": "stream",
     "text": [
      "(24985,)\n",
      "(24985,)\n"
     ]
    }
   ],
   "source": [
    "print(p_valid.shape)\n",
    "print(y_valid.shape)\n"
   ]
  }
 ],
 "metadata": {
  "interpreter": {
   "hash": "3d0292471711b0c7dd7313d429e3b80e50a9ce1418adb39e9d519722ae4dc815"
  },
  "kernelspec": {
   "display_name": "Python 3.7.11 ('deep37')",
   "language": "python",
   "name": "python3"
  },
  "language_info": {
   "codemirror_mode": {
    "name": "ipython",
    "version": 3
   },
   "file_extension": ".py",
   "mimetype": "text/x-python",
   "name": "python",
   "nbconvert_exporter": "python",
   "pygments_lexer": "ipython3",
   "version": "3.7.11"
  },
  "orig_nbformat": 4
 },
 "nbformat": 4,
 "nbformat_minor": 2
}
