{
 "cells": [
  {
   "cell_type": "code",
   "execution_count": 8,
   "metadata": {},
   "outputs": [],
   "source": [
    "import pandas as pd\n",
    "import numpy as np\n",
    "from utils import kiwi_operators as kwo\n",
    "from utils import config\n",
    "from glob import glob\n",
    "from collections import Counter\n",
    "\n",
    "path_lst = glob(f\"{config.dir_rolling_feat}/20160101_20190101/data/*.pkl\") + glob(\n",
    "    f\"{config.dir_rolling_feat}/20160701_20190701/data/*.pkl\"\n",
    ")\n",
    "name_lst = kwo.get_names_from_paths(path_lst)\n",
    "\n"
   ]
  },
  {
   "cell_type": "markdown",
   "metadata": {},
   "source": [
    "### Func"
   ]
  },
  {
   "cell_type": "code",
   "execution_count": 9,
   "metadata": {},
   "outputs": [
    {
     "data": {
      "text/plain": [
       "Counter({'12': 692,\n",
       "         '01': 9,\n",
       "         '02': 1260,\n",
       "         '03': 2,\n",
       "         '04': 579,\n",
       "         '05': 417,\n",
       "         '08': 45,\n",
       "         '09': 216,\n",
       "         '10': 293,\n",
       "         '11': 7})"
      ]
     },
     "execution_count": 9,
     "metadata": {},
     "output_type": "execute_result"
    }
   ],
   "source": [
    "func_lst = [elem.split(\"_\")[0] for elem in name_lst]\n",
    "\n",
    "Counter(func_lst)"
   ]
  },
  {
   "cell_type": "code",
   "execution_count": 10,
   "metadata": {},
   "outputs": [],
   "source": [
    "dt_name = dict()\n",
    "for elem in name_lst:\n",
    "    func_label = elem.split(\"_\")[0]\n",
    "    dt_name[func_label] = list()\n",
    "for elem in name_lst:\n",
    "    func_label = elem.split(\"_\")[0]\n",
    "    dt_name[func_label].append(elem)\n"
   ]
  }
 ],
 "metadata": {
  "interpreter": {
   "hash": "8d9740dd253f4adceaebb4f0a38c3dc861f4f66d810a84f1a81e07c209424e8d"
  },
  "kernelspec": {
   "display_name": "Python 3.7.11 ('env37')",
   "language": "python",
   "name": "python3"
  },
  "language_info": {
   "codemirror_mode": {
    "name": "ipython",
    "version": 3
   },
   "file_extension": ".py",
   "mimetype": "text/x-python",
   "name": "python",
   "nbconvert_exporter": "python",
   "pygments_lexer": "ipython3",
   "version": "3.7.11"
  },
  "orig_nbformat": 4
 },
 "nbformat": 4,
 "nbformat_minor": 2
}
