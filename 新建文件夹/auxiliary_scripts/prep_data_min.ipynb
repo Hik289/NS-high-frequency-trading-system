{
 "cells": [
  {
   "cell_type": "code",
   "execution_count": 39,
   "metadata": {},
   "outputs": [
    {
     "name": "stdout",
     "output_type": "stream",
     "text": [
      "data loaded\n",
      "reinstatement finished\n",
      "amount generated\n",
      "data saved\n"
     ]
    }
   ],
   "source": [
    "import pandas as pd\n",
    "import numpy as np\n",
    "import importlib as imp\n",
    "import os\n",
    "import sys\n",
    "\n",
    "sys.path.append(\"..\")\n",
    "\n",
    "from utils import kiwi_operators as kwo\n",
    "from utils import config\n",
    "from glob import glob\n",
    "import matplotlib.pyplot as plt\n",
    "\n",
    "\n",
    "# read in data and transform idx from datetime to int\n",
    "item_lst = [\"open\", \"high\", \"low\", \"close\", \"volume\"]\n",
    "dt_data = dict()\n",
    "for item in item_lst:\n",
    "    cur_data = pd.read_hdf(f\"{config.dir_raw_data_min}/{item}.h5\")\n",
    "    cur_data = kwo.transform_minute_index_datetime_to_int(cur_data)\n",
    "    dt_data[item] = cur_data\n",
    "print(\"data loaded\")\n",
    "\n",
    "\n",
    "# post-reinstatement\n",
    "df_gap = pd.read_hdf(f\"{config.dir_raw_data_min}/pricegap.h5\").fillna(0)\n",
    "df_gap = kwo.transform_minute_index_datetime_to_int(df_gap)\n",
    "\n",
    "for item in [\"open\", \"high\", \"low\", \"close\"]:\n",
    "    df_adj = df_gap / dt_data[item] + 1\n",
    "    df_adj = df_adj.reindex(dt_data[item].index)\n",
    "    df_adj = df_adj.fillna(1)\n",
    "    df_adj = df_adj.cumprod()\n",
    "    for col in df_adj.columns:\n",
    "        df_adj[col] = df_adj[col] / df_adj[col].iloc[-1]\n",
    "    dt_data[item] = dt_data[item] * df_adj\n",
    "print(\"reinstatement finished\")\n",
    "\n",
    "# get amount\n",
    "df_size = pd.read_pickle(f\"{config.dir_data_day}/Size_MainAdj.pkl\")\n",
    "close_dates = pd.Series(dt_data[\"close\"].index // 10000).unique()\n",
    "df_size = df_size.reindex(index=close_dates).fillna(method=\"ffill\")\n",
    "df_size.index = df_size.index * 10000 + 900\n",
    "close_idx = set(dt_data[\"close\"].index)\n",
    "size_idx = set(df_size.index)\n",
    "union_idx = close_idx.union(size_idx)\n",
    "union_idx = sorted(list(union_idx))\n",
    "df_size = df_size.reindex(union_idx).fillna(method=\"ffill\")\n",
    "df_size = df_size.reindex(dt_data[\"close\"].index)\n",
    "df_amount = df_size * dt_data[\"close\"] * dt_data[\"volume\"]\n",
    "dt_data[\"amount\"] = df_amount\n",
    "print(\"amount generated\")\n",
    "\n",
    "# save data\n",
    "for item in dt_data.keys():\n",
    "    dt_data[item].to_pickle(f\"{config.dir_data_min}/{item}.pkl\")\n",
    "print(\"data saved\")\n"
   ]
  }
 ],
 "metadata": {
  "interpreter": {
   "hash": "8d9740dd253f4adceaebb4f0a38c3dc861f4f66d810a84f1a81e07c209424e8d"
  },
  "kernelspec": {
   "display_name": "Python 3.7.11 ('env37')",
   "language": "python",
   "name": "python3"
  },
  "language_info": {
   "codemirror_mode": {
    "name": "ipython",
    "version": 3
   },
   "file_extension": ".py",
   "mimetype": "text/x-python",
   "name": "python",
   "nbconvert_exporter": "python",
   "pygments_lexer": "ipython3",
   "version": "3.7.11"
  },
  "orig_nbformat": 4
 },
 "nbformat": 4,
 "nbformat_minor": 2
}
